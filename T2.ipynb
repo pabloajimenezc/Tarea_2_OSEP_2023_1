{
 "cells": [
  {
   "cell_type": "code",
   "execution_count": 1,
   "outputs": [],
   "source": [
    "from pulp import *\n",
    "import pandas as pd\n",
    "import numpy as np\n",
    "import cvxpy  as cp\n",
    "import matplotlib.pyplot as plt"
   ],
   "metadata": {
    "collapsed": false,
    "pycharm": {
     "name": "#%%\n"
    }
   }
  },
  {
   "cell_type": "markdown",
   "source": [
    "# Actividad 1"
   ],
   "metadata": {
    "collapsed": false,
    "pycharm": {
     "name": "#%% md\n"
    }
   }
  },
  {
   "cell_type": "markdown",
   "source": [
    "## Datos"
   ],
   "metadata": {
    "collapsed": false
   }
  },
  {
   "cell_type": "markdown",
   "source": [
    "##### Potencias mínimas"
   ],
   "metadata": {
    "collapsed": false
   }
  },
  {
   "cell_type": "code",
   "execution_count": 2,
   "outputs": [],
   "source": [
    "P1_min = 150 #[MW]\n",
    "P2_min = 75 #[MW]\n",
    "P3_min = 0 #[MW]"
   ],
   "metadata": {
    "collapsed": false,
    "pycharm": {
     "name": "#%%\n"
    }
   }
  },
  {
   "cell_type": "markdown",
   "source": [
    "##### Potencias máximas"
   ],
   "metadata": {
    "collapsed": false
   }
  },
  {
   "cell_type": "code",
   "execution_count": 3,
   "outputs": [],
   "source": [
    "P1_max = 350 #[MW]\n",
    "P2_max = 150 #[MW]\n",
    "P3_max = 100 #[MW]"
   ],
   "metadata": {
    "collapsed": false,
    "pycharm": {
     "name": "#%%\n"
    }
   }
  },
  {
   "cell_type": "markdown",
   "source": [
    "##### Costos fijos"
   ],
   "metadata": {
    "collapsed": false
   }
  },
  {
   "cell_type": "code",
   "execution_count": 4,
   "outputs": [],
   "source": [
    "cf1 = 1 #[$/h]\n",
    "cf2 = 0.5 #[$/h]\n",
    "cf3 = 0.1 #[$/h]"
   ],
   "metadata": {
    "collapsed": false,
    "pycharm": {
     "name": "#%%\n"
    }
   }
  },
  {
   "cell_type": "markdown",
   "source": [
    "##### Costos variables"
   ],
   "metadata": {
    "collapsed": false
   }
  },
  {
   "cell_type": "code",
   "execution_count": 5,
   "outputs": [],
   "source": [
    "cv1 = 40 #[$/MWh]\n",
    "cv2 = 75 #[$/MWh]\n",
    "cv3 = 110 #[$/MWh]"
   ],
   "metadata": {
    "collapsed": false,
    "pycharm": {
     "name": "#%%\n"
    }
   }
  },
  {
   "cell_type": "markdown",
   "source": [
    "##### Demanda"
   ],
   "metadata": {
    "collapsed": false
   }
  },
  {
   "cell_type": "code",
   "execution_count": 6,
   "outputs": [],
   "source": [
    "D = 500"
   ],
   "metadata": {
    "collapsed": false,
    "pycharm": {
     "name": "#%%\n"
    }
   }
  },
  {
   "cell_type": "markdown",
   "source": [
    "## Problema de optmización primal:\n",
    "### Minimización de costos"
   ],
   "metadata": {
    "collapsed": false
   }
  },
  {
   "cell_type": "markdown",
   "source": [
    "##### Inicialización del problema"
   ],
   "metadata": {
    "collapsed": false
   }
  },
  {
   "cell_type": "code",
   "execution_count": 7,
   "outputs": [],
   "source": [
    "prob = LpProblem(\"Primal\", LpMinimize)"
   ],
   "metadata": {
    "collapsed": false,
    "pycharm": {
     "name": "#%%\n"
    }
   }
  },
  {
   "cell_type": "markdown",
   "source": [
    "##### Definición de variables"
   ],
   "metadata": {
    "collapsed": false
   }
  },
  {
   "cell_type": "code",
   "execution_count": 8,
   "outputs": [],
   "source": [
    "P1 = LpVariable(\"P1\")\n",
    "P2 = LpVariable(\"P2\")\n",
    "P3 = LpVariable(\"P3\")"
   ],
   "metadata": {
    "collapsed": false,
    "pycharm": {
     "name": "#%%\n"
    }
   }
  },
  {
   "cell_type": "markdown",
   "source": [
    "##### Función objetivo"
   ],
   "metadata": {
    "collapsed": false
   }
  },
  {
   "cell_type": "code",
   "execution_count": 9,
   "outputs": [],
   "source": [
    "prob += (cf1 + cv1 * P1) + (cf2 + cv2 * P2) + (cf3 + cv3 * P3)"
   ],
   "metadata": {
    "collapsed": false,
    "pycharm": {
     "name": "#%%\n"
    }
   }
  },
  {
   "cell_type": "markdown",
   "source": [
    "##### Restricciones"
   ],
   "metadata": {
    "collapsed": false
   }
  },
  {
   "cell_type": "code",
   "execution_count": 10,
   "outputs": [],
   "source": [
    "prob += (P1 + P2 + P3) == D # lambda\n",
    "prob += - P1_min + P1 >= 0 # m1_min\n",
    "prob += - P1 + P1_max >= 0 # m1_max\n",
    "prob += - P2_min + P2 >= 0 # m2_min\n",
    "prob += - P2 + P2_max >= 0 # m2_max\n",
    "prob += - P3_min + P3 >= 0 # m3_min\n",
    "prob += - P3 + P3_max >= 0 # m3_max"
   ],
   "metadata": {
    "collapsed": false,
    "pycharm": {
     "name": "#%%\n"
    }
   }
  },
  {
   "cell_type": "markdown",
   "source": [
    "##### Resolución"
   ],
   "metadata": {
    "collapsed": false
   }
  },
  {
   "cell_type": "code",
   "execution_count": 11,
   "outputs": [
    {
     "data": {
      "text/plain": "1"
     },
     "execution_count": 11,
     "metadata": {},
     "output_type": "execute_result"
    }
   ],
   "source": [
    "prob.solve()"
   ],
   "metadata": {
    "collapsed": false,
    "pycharm": {
     "name": "#%%\n"
    }
   }
  },
  {
   "cell_type": "markdown",
   "source": [
    "##### Estado de resolución del problema"
   ],
   "metadata": {
    "collapsed": false
   }
  },
  {
   "cell_type": "code",
   "execution_count": 12,
   "outputs": [
    {
     "name": "stdout",
     "output_type": "stream",
     "text": [
      "Optimal\n"
     ]
    }
   ],
   "source": [
    "print(LpStatus[prob.status])"
   ],
   "metadata": {
    "collapsed": false,
    "pycharm": {
     "name": "#%%\n"
    }
   }
  },
  {
   "cell_type": "markdown",
   "source": [
    "##### Potencias en el punto óptimo"
   ],
   "metadata": {
    "collapsed": false
   }
  },
  {
   "cell_type": "code",
   "execution_count": 13,
   "outputs": [
    {
     "name": "stdout",
     "output_type": "stream",
     "text": [
      "P1 = 350.0 [MW]\n",
      "P2 = 150.0 [MW]\n",
      "P3 = 0.0 [MW]\n"
     ]
    }
   ],
   "source": [
    "for potencia in prob.variables():\n",
    "    print(potencia.name , \"=\", potencia.varValue, \"[MW]\")"
   ],
   "metadata": {
    "collapsed": false,
    "pycharm": {
     "name": "#%%\n"
    }
   }
  },
  {
   "cell_type": "markdown",
   "source": [
    "##### Costo total del sistema"
   ],
   "metadata": {
    "collapsed": false
   }
  },
  {
   "cell_type": "code",
   "execution_count": 14,
   "outputs": [
    {
     "name": "stdout",
     "output_type": "stream",
     "text": [
      "Costo total =  25251.6 [$]\n"
     ]
    }
   ],
   "source": [
    "print(\"Costo total = \", value(prob.objective), \"[$]\")"
   ],
   "metadata": {
    "collapsed": false,
    "pycharm": {
     "name": "#%%\n"
    }
   }
  },
  {
   "cell_type": "markdown",
   "source": [
    "##### Multiplicadores de Lagrange"
   ],
   "metadata": {
    "collapsed": false
   }
  },
  {
   "cell_type": "code",
   "execution_count": 15,
   "outputs": [
    {
     "name": "stdout",
     "output_type": "stream",
     "text": [
      "Variable dual para la restricción P1 + P2 + P3 = 500 -> 110.0\n",
      "Variable dual para la restricción P1 >= 150 -> 0.0\n",
      "Variable dual para la restricción -P1 >= -350 -> 70.0\n",
      "Variable dual para la restricción P2 >= 75 -> 0.0\n",
      "Variable dual para la restricción -P2 >= -150 -> 35.0\n",
      "Variable dual para la restricción P3 >= 0 -> 0.0\n",
      "Variable dual para la restricción -P3 >= -100 -> 0.0\n"
     ]
    }
   ],
   "source": [
    "for restriccion in prob.constraints.values():\n",
    "    print(\"Variable dual para la restricción\", restriccion, \"->\", restriccion.pi)"
   ],
   "metadata": {
    "collapsed": false,
    "pycharm": {
     "name": "#%%\n"
    }
   }
  },
  {
   "cell_type": "markdown",
   "source": [
    "## Problema de optmización dual:\n",
    "### Maximización de los beneficios"
   ],
   "metadata": {
    "collapsed": false
   }
  },
  {
   "cell_type": "markdown",
   "source": [
    "##### Inicialización del problema"
   ],
   "metadata": {
    "collapsed": false
   }
  },
  {
   "cell_type": "code",
   "execution_count": 16,
   "outputs": [],
   "source": [
    "prob = LpProblem(\"Dual\", LpMaximize)"
   ],
   "metadata": {
    "collapsed": false,
    "pycharm": {
     "name": "#%%\n"
    }
   }
  },
  {
   "cell_type": "markdown",
   "source": [
    "##### Definición de variables"
   ],
   "metadata": {
    "collapsed": false
   }
  },
  {
   "cell_type": "code",
   "execution_count": 17,
   "outputs": [],
   "source": [
    "l = LpVariable(\"l\")\n",
    "m1_min = LpVariable(\"m1_min\")\n",
    "m1_max = LpVariable(\"m1_max\")\n",
    "m2_min = LpVariable(\"m2_min\")\n",
    "m2_max = LpVariable(\"m2_max\")\n",
    "m3_min = LpVariable(\"m3_min\")\n",
    "m3_max = LpVariable(\"m3_max\")"
   ],
   "metadata": {
    "collapsed": false,
    "pycharm": {
     "name": "#%%\n"
    }
   }
  },
  {
   "cell_type": "markdown",
   "source": [
    "##### Función objetivo"
   ],
   "metadata": {
    "collapsed": false
   }
  },
  {
   "cell_type": "code",
   "execution_count": 18,
   "outputs": [],
   "source": [
    "prob += D * l + (P1_min * m1_min + P2_min * m2_min + P3_min * m3_min) - (P1_max * m1_max + P2_max * m2_max + P3_max * m3_max)"
   ],
   "metadata": {
    "collapsed": false,
    "pycharm": {
     "name": "#%%\n"
    }
   }
  },
  {
   "cell_type": "markdown",
   "source": [
    "##### Restricciones"
   ],
   "metadata": {
    "collapsed": false
   }
  },
  {
   "cell_type": "code",
   "execution_count": 19,
   "outputs": [],
   "source": [
    "prob += (l + m1_min - m1_max) - cv1 <= 0 # P1\n",
    "prob += (l + m2_min - m2_max) - cv2 <= 0 # P2\n",
    "prob += (l + m3_min - m3_max) - cv3 <= 0 # P3\n",
    "prob += -m1_min <= 0\n",
    "prob += -m1_max <= 0\n",
    "prob += -m2_min <= 0\n",
    "prob += -m2_max <= 0\n",
    "prob += -m3_min <= 0\n",
    "prob += -m3_max <= 0"
   ],
   "metadata": {
    "collapsed": false,
    "pycharm": {
     "name": "#%%\n"
    }
   }
  },
  {
   "cell_type": "markdown",
   "source": [
    "##### Resolución"
   ],
   "metadata": {
    "collapsed": false
   }
  },
  {
   "cell_type": "code",
   "execution_count": 20,
   "outputs": [
    {
     "data": {
      "text/plain": "1"
     },
     "execution_count": 20,
     "metadata": {},
     "output_type": "execute_result"
    }
   ],
   "source": [
    "prob.solve()"
   ],
   "metadata": {
    "collapsed": false,
    "pycharm": {
     "name": "#%%\n"
    }
   }
  },
  {
   "cell_type": "markdown",
   "source": [
    "##### Estado de resolución del problema"
   ],
   "metadata": {
    "collapsed": false
   }
  },
  {
   "cell_type": "code",
   "execution_count": 21,
   "outputs": [
    {
     "name": "stdout",
     "output_type": "stream",
     "text": [
      "Optimal\n"
     ]
    }
   ],
   "source": [
    "print(LpStatus[prob.status])"
   ],
   "metadata": {
    "collapsed": false,
    "pycharm": {
     "name": "#%%\n"
    }
   }
  },
  {
   "cell_type": "markdown",
   "source": [
    "##### Multiplicadores de Lagrange en el punto óptimo"
   ],
   "metadata": {
    "collapsed": false
   }
  },
  {
   "cell_type": "code",
   "execution_count": 22,
   "outputs": [
    {
     "name": "stdout",
     "output_type": "stream",
     "text": [
      "l = 75.0 [$/MWh]\n",
      "m1_max = 35.0 [$/MWh]\n",
      "m1_min = -0.0 [$/MWh]\n",
      "m2_max = -0.0 [$/MWh]\n",
      "m2_min = -0.0 [$/MWh]\n",
      "m3_max = -0.0 [$/MWh]\n",
      "m3_min = -0.0 [$/MWh]\n"
     ]
    }
   ],
   "source": [
    "for m in prob.variables():\n",
    "    print(m.name , \"=\", m.varValue, \"[$/MWh]\")"
   ],
   "metadata": {
    "collapsed": false,
    "pycharm": {
     "name": "#%%\n"
    }
   }
  },
  {
   "cell_type": "markdown",
   "source": [
    "##### Beneficio total del sistema"
   ],
   "metadata": {
    "collapsed": false
   }
  },
  {
   "cell_type": "code",
   "execution_count": 23,
   "outputs": [
    {
     "name": "stdout",
     "output_type": "stream",
     "text": [
      "Beneficio total =  25250.0 [$]\n"
     ]
    }
   ],
   "source": [
    "print(\"Beneficio total = \", value(prob.objective), \"[$]\")"
   ],
   "metadata": {
    "collapsed": false,
    "pycharm": {
     "name": "#%%\n"
    }
   }
  },
  {
   "cell_type": "markdown",
   "source": [
    "##### Multiplicadores de Lagrange"
   ],
   "metadata": {
    "collapsed": false
   }
  },
  {
   "cell_type": "code",
   "execution_count": 24,
   "outputs": [
    {
     "name": "stdout",
     "output_type": "stream",
     "text": [
      "Variable dual para la restricción l - m1_max + m1_min <= 40 -> 350.0\n",
      "Variable dual para la restricción l - m2_max + m2_min <= 75 -> 150.0\n",
      "Variable dual para la restricción l - m3_max + m3_min <= 110 -> -0.0\n",
      "Variable dual para la restricción -m1_min <= 0 -> 200.0\n",
      "Variable dual para la restricción -m1_max <= 0 -> -0.0\n",
      "Variable dual para la restricción -m2_min <= 0 -> 75.0\n",
      "Variable dual para la restricción -m2_max <= 0 -> 0.0\n",
      "Variable dual para la restricción -m3_min <= 0 -> -0.0\n",
      "Variable dual para la restricción -m3_max <= 0 -> 100.0\n"
     ]
    }
   ],
   "source": [
    "for restriccion in prob.constraints.values():\n",
    "    print(\"Variable dual para la restricción\", restriccion, \"->\", restriccion.pi)"
   ],
   "metadata": {
    "collapsed": false,
    "pycharm": {
     "name": "#%%\n"
    }
   }
  },
  {
   "cell_type": "markdown",
   "source": [
    "# Actividad 2"
   ],
   "metadata": {
    "collapsed": false,
    "pycharm": {
     "name": "#%% md\n"
    }
   }
  },
  {
   "cell_type": "markdown",
   "source": [
    "## Datos"
   ],
   "metadata": {
    "collapsed": false,
    "pycharm": {
     "name": "#%% md\n"
    }
   }
  },
  {
   "cell_type": "markdown",
   "source": [
    "### Generadores"
   ],
   "metadata": {
    "collapsed": false,
    "pycharm": {
     "name": "#%% md\n"
    }
   }
  },
  {
   "cell_type": "code",
   "execution_count": 25,
   "outputs": [
    {
     "data": {
      "text/plain": "            Pmax  Pmin  Coef_a  Coef_b  Coef_c  Cost. comb.  Unnamed: 7   \nGen Number                                                                \n1            500   150    2000      25    0.05            1         NaN  \\\n2            700   200    1250      15    0.04            1         NaN   \n3            200     0    1700      10    0.03            1         NaN   \n\n                                    Unnamed: 8  \nGen Number                                      \n1           H1 = coef_a + coef_bP1 + coef_cP12  \n2                                          NaN  \n3                                          NaN  ",
      "text/html": "<div>\n<style scoped>\n    .dataframe tbody tr th:only-of-type {\n        vertical-align: middle;\n    }\n\n    .dataframe tbody tr th {\n        vertical-align: top;\n    }\n\n    .dataframe thead th {\n        text-align: right;\n    }\n</style>\n<table border=\"1\" class=\"dataframe\">\n  <thead>\n    <tr style=\"text-align: right;\">\n      <th></th>\n      <th>Pmax</th>\n      <th>Pmin</th>\n      <th>Coef_a</th>\n      <th>Coef_b</th>\n      <th>Coef_c</th>\n      <th>Cost. comb.</th>\n      <th>Unnamed: 7</th>\n      <th>Unnamed: 8</th>\n    </tr>\n    <tr>\n      <th>Gen Number</th>\n      <th></th>\n      <th></th>\n      <th></th>\n      <th></th>\n      <th></th>\n      <th></th>\n      <th></th>\n      <th></th>\n    </tr>\n  </thead>\n  <tbody>\n    <tr>\n      <th>1</th>\n      <td>500</td>\n      <td>150</td>\n      <td>2000</td>\n      <td>25</td>\n      <td>0.05</td>\n      <td>1</td>\n      <td>NaN</td>\n      <td>H1 = coef_a + coef_bP1 + coef_cP12</td>\n    </tr>\n    <tr>\n      <th>2</th>\n      <td>700</td>\n      <td>200</td>\n      <td>1250</td>\n      <td>15</td>\n      <td>0.04</td>\n      <td>1</td>\n      <td>NaN</td>\n      <td>NaN</td>\n    </tr>\n    <tr>\n      <th>3</th>\n      <td>200</td>\n      <td>0</td>\n      <td>1700</td>\n      <td>10</td>\n      <td>0.03</td>\n      <td>1</td>\n      <td>NaN</td>\n      <td>NaN</td>\n    </tr>\n  </tbody>\n</table>\n</div>"
     },
     "execution_count": 25,
     "metadata": {},
     "output_type": "execute_result"
    }
   ],
   "source": [
    "Datos_gen = pd.read_excel(\"Datos_gen.xlsx\", sheet_name=\"Datos_gen\", index_col=0)\n",
    "Datos_gen"
   ],
   "metadata": {
    "collapsed": false,
    "pycharm": {
     "name": "#%%\n"
    }
   }
  },
  {
   "cell_type": "markdown",
   "source": [
    "#### Potencias mínimas"
   ],
   "metadata": {
    "collapsed": false
   }
  },
  {
   "cell_type": "code",
   "execution_count": 26,
   "outputs": [
    {
     "name": "stdout",
     "output_type": "stream",
     "text": [
      "P1_min = 150\n",
      "P2_min = 200\n",
      "P3_min = 0\n"
     ]
    }
   ],
   "source": [
    "P1_min = Datos_gen.loc[1, \"Pmin\"] #[MW]\n",
    "P2_min = Datos_gen.loc[2, \"Pmin\"] #[MW]\n",
    "P3_min = Datos_gen.loc[3, \"Pmin\"] #[MW]\n",
    "print(\"P1_min = {}\".format(P1_min))\n",
    "print(\"P2_min = {}\".format(P2_min))\n",
    "print(\"P3_min = {}\".format(P3_min))"
   ],
   "metadata": {
    "collapsed": false,
    "pycharm": {
     "name": "#%%\n"
    }
   }
  },
  {
   "cell_type": "markdown",
   "source": [
    "#### Potencias máximas"
   ],
   "metadata": {
    "collapsed": false
   }
  },
  {
   "cell_type": "code",
   "execution_count": 27,
   "outputs": [
    {
     "name": "stdout",
     "output_type": "stream",
     "text": [
      "P1_max = 500\n",
      "P2_max = 700\n",
      "P3_max = 200\n"
     ]
    }
   ],
   "source": [
    "P1_max = Datos_gen.loc[1, \"Pmax\"] #[MW]\n",
    "P2_max = Datos_gen.loc[2, \"Pmax\"] #[MW]\n",
    "P3_max = Datos_gen.loc[3, \"Pmax\"] #[MW]\n",
    "print(\"P1_max = {}\".format(P1_max))\n",
    "print(\"P2_max = {}\".format(P2_max))\n",
    "print(\"P3_max = {}\".format(P3_max))"
   ],
   "metadata": {
    "collapsed": false,
    "pycharm": {
     "name": "#%%\n"
    }
   }
  },
  {
   "cell_type": "markdown",
   "source": [
    "#### Función de costo"
   ],
   "metadata": {
    "collapsed": false,
    "pycharm": {
     "name": "#%% md\n"
    }
   }
  },
  {
   "cell_type": "code",
   "execution_count": null,
   "outputs": [],
   "source": [
    "a1 = Datos_gen.loc[1, \"Coef_a\"]\n",
    "b1 = Datos_gen.loc[1, \"Coef_b\"]\n",
    "c1 = Datos_gen.loc[1, \"Coef_c\"]\n",
    "a2 = Datos_gen.loc[2, \"Coef_a\"]\n",
    "b2 = Datos_gen.loc[2, \"Coef_b\"]\n",
    "c2 = Datos_gen.loc[2, \"Coef_c\"]\n",
    "a3 = Datos_gen.loc[3, \"Coef_a\"]\n",
    "b3 = Datos_gen.loc[3, \"Coef_b\"]\n",
    "c3 = Datos_gen.loc[3, \"Coef_c\"]\n",
    "print(\"C1 = {} + {} * P1 + {} * P1 ** 2\".format(a1, b1, c1))\n",
    "print(\"C2 = {} + {} * P2 + {} * P2 ** 2\".format(a2, b2, c2))\n",
    "print(\"C3 = {} + {} * P3 + {} * P3 ** 2\".format(a3, b3, c3))"
   ],
   "metadata": {
    "collapsed": false,
    "pycharm": {
     "name": "#%%\n"
    }
   }
  },
  {
   "cell_type": "markdown",
   "source": [
    "### Demanda"
   ],
   "metadata": {
    "collapsed": false,
    "pycharm": {
     "name": "#%% md\n"
    }
   }
  },
  {
   "cell_type": "code",
   "execution_count": 152,
   "outputs": [
    {
     "data": {
      "text/plain": "      Demanda\nHora         \n1      836.92\n2      805.56\n3      786.94\n4      781.06\n5      783.02\n6      794.78\n7      847.70\n8      903.56\n9      951.58\n10     995.68\n11    1009.40\n12    1015.28\n13    1015.28\n14    1006.46\n15    1001.56\n16     993.72\n17     980.00\n18     940.80\n19     957.46\n20     992.74\n21     984.90\n22     966.28\n23     965.30\n24     930.02",
      "text/html": "<div>\n<style scoped>\n    .dataframe tbody tr th:only-of-type {\n        vertical-align: middle;\n    }\n\n    .dataframe tbody tr th {\n        vertical-align: top;\n    }\n\n    .dataframe thead th {\n        text-align: right;\n    }\n</style>\n<table border=\"1\" class=\"dataframe\">\n  <thead>\n    <tr style=\"text-align: right;\">\n      <th></th>\n      <th>Demanda</th>\n    </tr>\n    <tr>\n      <th>Hora</th>\n      <th></th>\n    </tr>\n  </thead>\n  <tbody>\n    <tr>\n      <th>1</th>\n      <td>836.92</td>\n    </tr>\n    <tr>\n      <th>2</th>\n      <td>805.56</td>\n    </tr>\n    <tr>\n      <th>3</th>\n      <td>786.94</td>\n    </tr>\n    <tr>\n      <th>4</th>\n      <td>781.06</td>\n    </tr>\n    <tr>\n      <th>5</th>\n      <td>783.02</td>\n    </tr>\n    <tr>\n      <th>6</th>\n      <td>794.78</td>\n    </tr>\n    <tr>\n      <th>7</th>\n      <td>847.70</td>\n    </tr>\n    <tr>\n      <th>8</th>\n      <td>903.56</td>\n    </tr>\n    <tr>\n      <th>9</th>\n      <td>951.58</td>\n    </tr>\n    <tr>\n      <th>10</th>\n      <td>995.68</td>\n    </tr>\n    <tr>\n      <th>11</th>\n      <td>1009.40</td>\n    </tr>\n    <tr>\n      <th>12</th>\n      <td>1015.28</td>\n    </tr>\n    <tr>\n      <th>13</th>\n      <td>1015.28</td>\n    </tr>\n    <tr>\n      <th>14</th>\n      <td>1006.46</td>\n    </tr>\n    <tr>\n      <th>15</th>\n      <td>1001.56</td>\n    </tr>\n    <tr>\n      <th>16</th>\n      <td>993.72</td>\n    </tr>\n    <tr>\n      <th>17</th>\n      <td>980.00</td>\n    </tr>\n    <tr>\n      <th>18</th>\n      <td>940.80</td>\n    </tr>\n    <tr>\n      <th>19</th>\n      <td>957.46</td>\n    </tr>\n    <tr>\n      <th>20</th>\n      <td>992.74</td>\n    </tr>\n    <tr>\n      <th>21</th>\n      <td>984.90</td>\n    </tr>\n    <tr>\n      <th>22</th>\n      <td>966.28</td>\n    </tr>\n    <tr>\n      <th>23</th>\n      <td>965.30</td>\n    </tr>\n    <tr>\n      <th>24</th>\n      <td>930.02</td>\n    </tr>\n  </tbody>\n</table>\n</div>"
     },
     "execution_count": 152,
     "metadata": {},
     "output_type": "execute_result"
    }
   ],
   "source": [
    "Perfil_horario = pd.read_excel(\"Datos_gen.xlsx\", sheet_name=\"Perfil_horario\", index_col=0)\n",
    "Perfil_horario"
   ],
   "metadata": {
    "collapsed": false,
    "pycharm": {
     "name": "#%%\n"
    }
   }
  },
  {
   "cell_type": "code",
   "execution_count": 49,
   "outputs": [
    {
     "data": {
      "text/plain": "<Figure size 640x480 with 1 Axes>",
      "image/png": "[encoded data removed]"
     },
     "metadata": {},
     "output_type": "display_data"
    }
   ],
   "source": [
    "plt.plot(Perfil_horario)\n",
    "plt.xlabel(\"Hora del día [h]\")\n",
    "plt.ylabel(\"Demanda [MWh]\")\n",
    "plt.xlim([0, 24])\n",
    "plt.xticks(list(range(1,25)))\n",
    "plt.title(\"Energía consumida por hora\")\n",
    "plt.show()"
   ],
   "metadata": {
    "collapsed": false,
    "pycharm": {
     "name": "#%%\n"
    }
   }
  },
  {
   "cell_type": "markdown",
   "source": [
    "### Líneas de transmisión"
   ],
   "metadata": {
    "collapsed": false,
    "pycharm": {
     "name": "#%% md\n"
    }
   }
  },
  {
   "cell_type": "code",
   "execution_count": 54,
   "outputs": [
    {
     "data": {
      "text/plain": "            B1-B2  B2-B3  B1-B3 Unnamed: 4 Unnamed: 5 Unnamed: 6\nLinea                                                           \nCapacidad   220.0  280.0    100         MW        NaN        NaN\nReactancia    0.5    0.6      1         pu    100 MVA     220 kV",
      "text/html": "<div>\n<style scoped>\n    .dataframe tbody tr th:only-of-type {\n        vertical-align: middle;\n    }\n\n    .dataframe tbody tr th {\n        vertical-align: top;\n    }\n\n    .dataframe thead th {\n        text-align: right;\n    }\n</style>\n<table border=\"1\" class=\"dataframe\">\n  <thead>\n    <tr style=\"text-align: right;\">\n      <th></th>\n      <th>B1-B2</th>\n      <th>B2-B3</th>\n      <th>B1-B3</th>\n      <th>Unnamed: 4</th>\n      <th>Unnamed: 5</th>\n      <th>Unnamed: 6</th>\n    </tr>\n    <tr>\n      <th>Linea</th>\n      <th></th>\n      <th></th>\n      <th></th>\n      <th></th>\n      <th></th>\n      <th></th>\n    </tr>\n  </thead>\n  <tbody>\n    <tr>\n      <th>Capacidad</th>\n      <td>220.0</td>\n      <td>280.0</td>\n      <td>100</td>\n      <td>MW</td>\n      <td>NaN</td>\n      <td>NaN</td>\n    </tr>\n    <tr>\n      <th>Reactancia</th>\n      <td>0.5</td>\n      <td>0.6</td>\n      <td>1</td>\n      <td>pu</td>\n      <td>100 MVA</td>\n      <td>220 kV</td>\n    </tr>\n  </tbody>\n</table>\n</div>"
     },
     "execution_count": 54,
     "metadata": {},
     "output_type": "execute_result"
    }
   ],
   "source": [
    "Transmision = pd.read_excel(\"Datos_gen.xlsx\", sheet_name=\"Transmision\", index_col=0)\n",
    "Transmision"
   ],
   "metadata": {
    "collapsed": false,
    "pycharm": {
     "name": "#%%\n"
    }
   }
  },
  {
   "cell_type": "markdown",
   "source": [
    "### Flujo mínimo"
   ],
   "metadata": {
    "collapsed": false,
    "pycharm": {
     "name": "#%% md\n"
    }
   }
  },
  {
   "cell_type": "code",
   "execution_count": 30,
   "outputs": [
    {
     "name": "stdout",
     "output_type": "stream",
     "text": [
      "P12_min = -220.0\n",
      "P23_min = -280.0\n",
      "P13_min = -100\n"
     ]
    }
   ],
   "source": [
    "P12_min = - Transmision.loc[\"Capacidad\", \"B1-B2\"]\n",
    "P23_min = - Transmision.loc[\"Capacidad\", \"B2-B3\"]\n",
    "P13_min = - Transmision.loc[\"Capacidad\", \"B1-B3\"]\n",
    "print(\"P12_min = {}\".format(P12_min))\n",
    "print(\"P23_min = {}\".format(P23_min))\n",
    "print(\"P13_min = {}\".format(P13_min))"
   ],
   "metadata": {
    "collapsed": false,
    "pycharm": {
     "name": "#%%\n"
    }
   }
  },
  {
   "cell_type": "markdown",
   "source": [
    "### Flujo máximo"
   ],
   "metadata": {
    "collapsed": false,
    "pycharm": {
     "name": "#%% md\n"
    }
   }
  },
  {
   "cell_type": "code",
   "execution_count": 31,
   "outputs": [
    {
     "name": "stdout",
     "output_type": "stream",
     "text": [
      "P12_max = 220.0\n",
      "P23_max = 280.0\n",
      "P13_max = 100\n"
     ]
    }
   ],
   "source": [
    "P12_max = - P12_min\n",
    "P23_max = - P23_min\n",
    "P13_max = - P13_min\n",
    "print(\"P12_max = {}\".format(P12_max))\n",
    "print(\"P23_max = {}\".format(P23_max))\n",
    "print(\"P13_max = {}\".format(P13_max))"
   ],
   "metadata": {
    "collapsed": false,
    "pycharm": {
     "name": "#%%\n"
    }
   }
  },
  {
   "cell_type": "markdown",
   "source": [
    "### Reactancias"
   ],
   "metadata": {
    "collapsed": false,
    "pycharm": {
     "name": "#%% md\n"
    }
   }
  },
  {
   "cell_type": "code",
   "execution_count": 32,
   "outputs": [
    {
     "name": "stdout",
     "output_type": "stream",
     "text": [
      "X12 = 242.0\n",
      "X23 = 290.4\n",
      "X13 = 484.0\n"
     ]
    }
   ],
   "source": [
    "Zb = 220 ** 2 / 100\n",
    "X12 = 0.5 * Zb\n",
    "X23 = 0.6 * Zb\n",
    "X13 = 1 * Zb\n",
    "print(\"X12 = {}\".format(X12))\n",
    "print(\"X23 = {}\".format(X23))\n",
    "print(\"X13 = {}\".format(X13))"
   ],
   "metadata": {
    "collapsed": false,
    "pycharm": {
     "name": "#%%\n"
    }
   }
  },
  {
   "cell_type": "markdown",
   "source": [
    "## Resolución del problema de minimización de costos"
   ],
   "metadata": {
    "collapsed": false,
    "pycharm": {
     "name": "#%% md\n"
    }
   }
  },
  {
   "cell_type": "markdown",
   "source": [
    "### Definción de variables"
   ],
   "metadata": {
    "collapsed": false,
    "pycharm": {
     "name": "#%% md\n"
    }
   }
  },
  {
   "cell_type": "code",
   "execution_count": 115,
   "outputs": [],
   "source": [
    "P1 = cp.Variable(name=\"P1\")\n",
    "P2 = cp.Variable(name=\"P2\")\n",
    "P3 = cp.Variable(name=\"P3\")\n",
    "P12 = cp.Variable(name=\"P12\")\n",
    "P13 = cp.Variable(name=\"P13\")\n",
    "P23 = cp.Variable(name=\"P23\")\n",
    "t1 = cp.Variable(name=\"t1\")\n",
    "t2 = cp.Variable(name=\"t2\")\n",
    "t3 = cp.Variable(name=\"t3\")"
   ],
   "metadata": {
    "collapsed": false,
    "pycharm": {
     "name": "#%%\n"
    }
   }
  },
  {
   "cell_type": "markdown",
   "source": [
    "### Función de costo"
   ],
   "metadata": {
    "collapsed": false,
    "pycharm": {
     "name": "#%% md\n"
    }
   }
  },
  {
   "cell_type": "code",
   "execution_count": 140,
   "outputs": [
    {
     "name": "stdout",
     "output_type": "stream",
     "text": [
      "4950.0 + 25.0 @ P1 + 15.0 @ P2 + 10.0 @ P3 + 0.05 @ power(P1, 2.0) + 0.04 @ power(P2, 2.0) + 0.03 @ power(P3, 2.0)\n"
     ]
    }
   ],
   "source": [
    "Pg = np.array([P1, P2, P3])\n",
    "a = np.array([a1, a2, a3])\n",
    "b = np.array([b1, b2, b3])\n",
    "c = np.array([c1, c2, c3])\n",
    "C = sum(a) + b @ Pg + c @ Pg ** 2\n",
    "print(C)"
   ],
   "metadata": {
    "collapsed": false,
    "pycharm": {
     "name": "#%%\n"
    }
   }
  },
  {
   "cell_type": "markdown",
   "source": [
    "### Restricciones"
   ],
   "metadata": {
    "collapsed": false,
    "pycharm": {
     "name": "#%% md\n"
    }
   }
  },
  {
   "cell_type": "code",
   "execution_count": 141,
   "outputs": [],
   "source": [
    "D1 = 0.6 * D\n",
    "D2 = 0.3 * D\n",
    "D3 = 0.1 * D\n",
    "\n",
    "# Balance de potencia en las barras (l1, l2 y l3)\n",
    "rest_lck = [P1 - P12 - P13 == D1,\n",
    "            P2 + P12 - P23 == D2,\n",
    "            P3 + P12 + P13 == D3]\n",
    "# Límite de los generadores\n",
    "rest_gen_min_max = [P1 - P1_min >= 0,\n",
    "                    P1_max - P1 >= 0,\n",
    "                    P2 - P2_min >= 0,\n",
    "                    P2_max - P2 >= 0,\n",
    "                    P3 - P3_min >= 0,\n",
    "                    P3_max - P3 >= 0]\n",
    "# Límites de las líneas de transmisión\n",
    "rest_flujo_min_max = [P12 - P12_min >= 0,\n",
    "                    P12_max - P12 >= 0,\n",
    "                    P23 - P23_min >= 0,\n",
    "                    P23_max - P23 >= 0,\n",
    "                    P13 - P13_min >= 0,\n",
    "                    P13_max - P13 >= 0]\n",
    "# Cálculo del flujo por las líneas\n",
    "rest_calc_flujo = [P12 == (t1 - t2) / X12,\n",
    "                   P13 == (t1 - t3) / X13,\n",
    "                   P23 == (t2 - t3) / X23]"
   ],
   "metadata": {
    "collapsed": false,
    "pycharm": {
     "name": "#%%\n"
    }
   }
  },
  {
   "cell_type": "markdown",
   "source": [
    "### Inicialización del problema"
   ],
   "metadata": {
    "collapsed": false,
    "pycharm": {
     "name": "#%% md\n"
    }
   }
  },
  {
   "cell_type": "code",
   "execution_count": 142,
   "outputs": [],
   "source": [
    "prob = cp.Problem(cp.Minimize(C), rest_lck + rest_gen_min_max + rest_flujo_min_max + rest_calc_flujo)"
   ],
   "metadata": {
    "collapsed": false,
    "pycharm": {
     "name": "#%%\n"
    }
   }
  },
  {
   "cell_type": "markdown",
   "source": [
    "### Resolución"
   ],
   "metadata": {
    "collapsed": false,
    "pycharm": {
     "name": "#%% md\n"
    }
   }
  },
  {
   "cell_type": "code",
   "execution_count": 143,
   "outputs": [
    {
     "data": {
      "text/plain": "16975.0"
     },
     "execution_count": 143,
     "metadata": {},
     "output_type": "execute_result"
    }
   ],
   "source": [
    "prob.solve()"
   ],
   "metadata": {
    "collapsed": false,
    "pycharm": {
     "name": "#%%\n"
    }
   }
  },
  {
   "cell_type": "markdown",
   "source": [
    "### Generaciones en el punto óptimo"
   ],
   "metadata": {
    "collapsed": false
   }
  },
  {
   "cell_type": "code",
   "execution_count": 144,
   "outputs": [
    {
     "name": "stdout",
     "output_type": "stream",
     "text": [
      "P1 = 250.0\n",
      "P2 = 75.0\n",
      "P3 = 100.0\n"
     ]
    }
   ],
   "source": [
    "print(\"P1 = {}\".format(P1.value))\n",
    "print(\"P2 = {}\".format(P2.value))\n",
    "print(\"P3 = {}\".format(P3.value))"
   ],
   "metadata": {
    "collapsed": false,
    "pycharm": {
     "name": "#%%\n"
    }
   }
  },
  {
   "cell_type": "markdown",
   "source": [
    "### Flujos en el punto óptimo"
   ],
   "metadata": {
    "collapsed": false
   }
  },
  {
   "cell_type": "code",
   "execution_count": 146,
   "outputs": [
    {
     "name": "stdout",
     "output_type": "stream",
     "text": [
      "P12 = -2.3809523809523703\n",
      "P13 = -47.61904761904763\n",
      "P23 = -77.38095238095238\n"
     ]
    }
   ],
   "source": [
    "print(\"P12 = {}\".format(P12.value))\n",
    "print(\"P13 = {}\".format(P13.value))\n",
    "print(\"P23 = {}\".format(P23.value))"
   ],
   "metadata": {
    "collapsed": false,
    "pycharm": {
     "name": "#%%\n"
    }
   }
  },
  {
   "cell_type": "markdown",
   "source": [
    "### Ángulos en el punto óptimo"
   ],
   "metadata": {
    "collapsed": false
   }
  },
  {
   "cell_type": "code",
   "execution_count": 147,
   "outputs": [
    {
     "name": "stdout",
     "output_type": "stream",
     "text": [
      "t1 = -6155.502482721049\n",
      "t2 = -5579.312006530576\n",
      "t3 = 16892.116564898\n"
     ]
    }
   ],
   "source": [
    "print(\"t1 = {}\".format(t1.value))\n",
    "print(\"t2 = {}\".format(t2.value))\n",
    "print(\"t3 = {}\".format(t3.value))"
   ],
   "metadata": {
    "collapsed": false,
    "pycharm": {
     "name": "#%%\n"
    }
   }
  }
 ],
 "metadata": {
  "kernelspec": {
   "display_name": "Python 3 (ipykernel)",
   "language": "python",
   "name": "python3"
  },
  "language_info": {
   "codemirror_mode": {
    "name": "ipython",
    "version": 3
   },
   "file_extension": ".py",
   "mimetype": "text/x-python",
   "name": "python",
   "nbconvert_exporter": "python",
   "pygments_lexer": "ipython3",
   "version": "3.9.16"
  }
 },
 "nbformat": 4,
 "nbformat_minor": 1
}
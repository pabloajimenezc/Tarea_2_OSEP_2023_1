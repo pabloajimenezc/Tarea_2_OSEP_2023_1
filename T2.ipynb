{
 "cells": [
  {
   "cell_type": "code",
   "execution_count": 1,
   "outputs": [],
   "source": [
    "from pulp import *\n",
    "import pandas as pd"
   ],
   "metadata": {
    "collapsed": false,
    "pycharm": {
     "name": "#%%\n"
    }
   }
  },
  {
   "cell_type": "markdown",
   "source": [
    "# Actividad 1"
   ],
   "metadata": {
    "collapsed": false,
    "pycharm": {
     "name": "#%% md\n"
    }
   }
  },
  {
   "cell_type": "markdown",
   "source": [
    "## Datos"
   ],
   "metadata": {
    "collapsed": false
   }
  },
  {
   "cell_type": "markdown",
   "source": [
    "##### Potencias mínimas"
   ],
   "metadata": {
    "collapsed": false
   }
  },
  {
   "cell_type": "code",
   "execution_count": 2,
   "outputs": [],
   "source": [
    "P1_min = 150 #[MW]\n",
    "P2_min = 75 #[MW]\n",
    "P3_min = 0 #[MW]"
   ],
   "metadata": {
    "collapsed": false,
    "pycharm": {
     "name": "#%%\n"
    }
   }
  },
  {
   "cell_type": "markdown",
   "source": [
    "##### Potencias máximas"
   ],
   "metadata": {
    "collapsed": false
   }
  },
  {
   "cell_type": "code",
   "execution_count": 3,
   "outputs": [],
   "source": [
    "P1_max = 350 #[MW]\n",
    "P2_max = 150 #[MW]\n",
    "P3_max = 100 #[MW]"
   ],
   "metadata": {
    "collapsed": false,
    "pycharm": {
     "name": "#%%\n"
    }
   }
  },
  {
   "cell_type": "markdown",
   "source": [
    "##### Costos fijos"
   ],
   "metadata": {
    "collapsed": false
   }
  },
  {
   "cell_type": "code",
   "execution_count": 4,
   "outputs": [],
   "source": [
    "cf1 = 1 #[$/h]\n",
    "cf2 = 0.5 #[$/h]\n",
    "cf3 = 0.1 #[$/h]"
   ],
   "metadata": {
    "collapsed": false,
    "pycharm": {
     "name": "#%%\n"
    }
   }
  },
  {
   "cell_type": "markdown",
   "source": [
    "##### Costos variables"
   ],
   "metadata": {
    "collapsed": false
   }
  },
  {
   "cell_type": "code",
   "execution_count": 5,
   "outputs": [],
   "source": [
    "cv1 = 40 #[$/MWh]\n",
    "cv2 = 75 #[$/MWh]\n",
    "cv3 = 110 #[$/MWh]"
   ],
   "metadata": {
    "collapsed": false,
    "pycharm": {
     "name": "#%%\n"
    }
   }
  },
  {
   "cell_type": "markdown",
   "source": [
    "##### Demanda"
   ],
   "metadata": {
    "collapsed": false
   }
  },
  {
   "cell_type": "code",
   "execution_count": 6,
   "outputs": [],
   "source": [
    "D = 500"
   ],
   "metadata": {
    "collapsed": false,
    "pycharm": {
     "name": "#%%\n"
    }
   }
  },
  {
   "cell_type": "markdown",
   "source": [
    "## Problema de optmización primal:\n",
    "### Minimización de costos"
   ],
   "metadata": {
    "collapsed": false
   }
  },
  {
   "cell_type": "markdown",
   "source": [
    "##### Inicialización del problema"
   ],
   "metadata": {
    "collapsed": false
   }
  },
  {
   "cell_type": "code",
   "execution_count": 7,
   "outputs": [],
   "source": [
    "prob = LpProblem(\"Primal\", LpMinimize)"
   ],
   "metadata": {
    "collapsed": false,
    "pycharm": {
     "name": "#%%\n"
    }
   }
  },
  {
   "cell_type": "markdown",
   "source": [
    "##### Definición de variables"
   ],
   "metadata": {
    "collapsed": false
   }
  },
  {
   "cell_type": "code",
   "execution_count": 8,
   "outputs": [],
   "source": [
    "P1 = LpVariable(\"P1\")\n",
    "P2 = LpVariable(\"P2\")\n",
    "P3 = LpVariable(\"P3\")"
   ],
   "metadata": {
    "collapsed": false,
    "pycharm": {
     "name": "#%%\n"
    }
   }
  },
  {
   "cell_type": "markdown",
   "source": [
    "##### Función objetivo"
   ],
   "metadata": {
    "collapsed": false
   }
  },
  {
   "cell_type": "code",
   "execution_count": 9,
   "outputs": [],
   "source": [
    "prob += (cf1 + cv1 * P1) + (cf2 + cv2 * P2) + (cf3 + cv3 * P3)"
   ],
   "metadata": {
    "collapsed": false,
    "pycharm": {
     "name": "#%%\n"
    }
   }
  },
  {
   "cell_type": "markdown",
   "source": [
    "##### Restricciones"
   ],
   "metadata": {
    "collapsed": false
   }
  },
  {
   "cell_type": "code",
   "execution_count": 10,
   "outputs": [],
   "source": [
    "prob += D - (P1 + P2 + P3) == 0 # lambda\n",
    "prob += P1_min - P1 <= 0 # m1_min\n",
    "prob += P1 - P1_max <= 0 # m1_max\n",
    "prob += P2_min - P2 <= 0 # m2_min\n",
    "prob += P2 - P2_max <= 0 # m2_max\n",
    "prob += P3_min - P3 <= 0 # m3_min\n",
    "prob += P3 - P3_max <= 0 # m3_max"
   ],
   "metadata": {
    "collapsed": false,
    "pycharm": {
     "name": "#%%\n"
    }
   }
  },
  {
   "cell_type": "markdown",
   "source": [
    "##### Resolución"
   ],
   "metadata": {
    "collapsed": false
   }
  },
  {
   "cell_type": "code",
   "execution_count": 11,
   "outputs": [
    {
     "data": {
      "text/plain": "1"
     },
     "execution_count": 11,
     "metadata": {},
     "output_type": "execute_result"
    }
   ],
   "source": [
    "prob.solve()"
   ],
   "metadata": {
    "collapsed": false,
    "pycharm": {
     "name": "#%%\n"
    }
   }
  },
  {
   "cell_type": "markdown",
   "source": [
    "##### Estado de resolución del problema"
   ],
   "metadata": {
    "collapsed": false
   }
  },
  {
   "cell_type": "code",
   "execution_count": 12,
   "outputs": [
    {
     "name": "stdout",
     "output_type": "stream",
     "text": [
      "Optimal\n"
     ]
    }
   ],
   "source": [
    "print(LpStatus[prob.status])"
   ],
   "metadata": {
    "collapsed": false,
    "pycharm": {
     "name": "#%%\n"
    }
   }
  },
  {
   "cell_type": "markdown",
   "source": [
    "##### Potencias en el punto óptimo"
   ],
   "metadata": {
    "collapsed": false
   }
  },
  {
   "cell_type": "code",
   "execution_count": 13,
   "outputs": [
    {
     "name": "stdout",
     "output_type": "stream",
     "text": [
      "P1 = 350.0 [MW]\n",
      "P2 = 150.0 [MW]\n",
      "P3 = 0.0 [MW]\n"
     ]
    }
   ],
   "source": [
    "for potencia in prob.variables():\n",
    "    print(potencia.name , \"=\", potencia.varValue, \"[MW]\")"
   ],
   "metadata": {
    "collapsed": false,
    "pycharm": {
     "name": "#%%\n"
    }
   }
  },
  {
   "cell_type": "markdown",
   "source": [
    "##### Costo total del sistema"
   ],
   "metadata": {
    "collapsed": false
   }
  },
  {
   "cell_type": "code",
   "execution_count": 14,
   "outputs": [
    {
     "name": "stdout",
     "output_type": "stream",
     "text": [
      "Costo total =  25251.6 [$]\n"
     ]
    }
   ],
   "source": [
    "print(\"Costo total = \", value(prob.objective), \"[$]\")"
   ],
   "metadata": {
    "collapsed": false,
    "pycharm": {
     "name": "#%%\n"
    }
   }
  },
  {
   "cell_type": "markdown",
   "source": [
    "##### Multiplicadores de Lagrange"
   ],
   "metadata": {
    "collapsed": false
   }
  },
  {
   "cell_type": "code",
   "execution_count": 15,
   "outputs": [
    {
     "name": "stdout",
     "output_type": "stream",
     "text": [
      "Variable dual para la restricción -P1 - P2 - P3 = -500 -> -110.0\n",
      "Variable dual para la restricción -P1 <= -150 -> 0.0\n",
      "Variable dual para la restricción P1 <= 350 -> -70.0\n",
      "Variable dual para la restricción -P2 <= -75 -> 0.0\n",
      "Variable dual para la restricción P2 <= 150 -> -35.0\n",
      "Variable dual para la restricción -P3 <= 0 -> 0.0\n",
      "Variable dual para la restricción P3 <= 100 -> 0.0\n"
     ]
    }
   ],
   "source": [
    "for restriccion in prob.constraints.values():\n",
    "    print(\"Variable dual para la restricción\", restriccion, \"->\", restriccion.pi)"
   ],
   "metadata": {
    "collapsed": false,
    "pycharm": {
     "name": "#%%\n"
    }
   }
  },
  {
   "cell_type": "markdown",
   "source": [
    "##### Precios sombra"
   ],
   "metadata": {
    "collapsed": false
   }
  },
  {
   "cell_type": "code",
   "execution_count": 16,
   "outputs": [
    {
     "name": "stdout",
     "output_type": "stream",
     "text": [
      "Precio sombra de P1 = 0.0\n",
      "Precio sombra de P2 = 0.0\n",
      "Precio sombra de P3 = 0.0\n"
     ]
    }
   ],
   "source": [
    "for P in prob.variables():\n",
    "    print(\"Precio sombra de\", P, \"=\", P.dj)"
   ],
   "metadata": {
    "collapsed": false,
    "pycharm": {
     "name": "#%%\n"
    }
   }
  },
  {
   "cell_type": "markdown",
   "source": [
    "## Problema de optmización dual:\n",
    "### Maximización de los beneficios"
   ],
   "metadata": {
    "collapsed": false
   }
  },
  {
   "cell_type": "markdown",
   "source": [
    "##### Inicialización del problema"
   ],
   "metadata": {
    "collapsed": false
   }
  },
  {
   "cell_type": "code",
   "execution_count": 17,
   "outputs": [],
   "source": [
    "prob = LpProblem(\"Dual\", LpMaximize)"
   ],
   "metadata": {
    "collapsed": false,
    "pycharm": {
     "name": "#%%\n"
    }
   }
  },
  {
   "cell_type": "markdown",
   "source": [
    "##### Definición de variables"
   ],
   "metadata": {
    "collapsed": false
   }
  },
  {
   "cell_type": "code",
   "execution_count": 18,
   "outputs": [],
   "source": [
    "l = LpVariable(\"l\")\n",
    "m1_min = LpVariable(\"m1_min\")\n",
    "m1_max = LpVariable(\"m1_max\")\n",
    "m2_min = LpVariable(\"m2_min\")\n",
    "m2_max = LpVariable(\"m2_max\")\n",
    "m3_min = LpVariable(\"m3_min\")\n",
    "m3_max = LpVariable(\"m3_max\")"
   ],
   "metadata": {
    "collapsed": false,
    "pycharm": {
     "name": "#%%\n"
    }
   }
  },
  {
   "cell_type": "markdown",
   "source": [
    "##### Función objetivo"
   ],
   "metadata": {
    "collapsed": false
   }
  },
  {
   "cell_type": "code",
   "execution_count": 19,
   "outputs": [],
   "source": [
    "prob += D * l + (P1_min * m1_min + P2_min * m2_min + P3_min * m3_min) - (P1_max * m1_max + P2_max * m2_max + P3_max * m3_max)"
   ],
   "metadata": {
    "collapsed": false,
    "pycharm": {
     "name": "#%%\n"
    }
   }
  },
  {
   "cell_type": "markdown",
   "source": [
    "##### Restricciones"
   ],
   "metadata": {
    "collapsed": false
   }
  },
  {
   "cell_type": "code",
   "execution_count": 20,
   "outputs": [],
   "source": [
    "prob += (l + m1_min - m1_max) - cv1 <= 0 # P1\n",
    "prob += (l + m2_min - m2_max) - cv2 <= 0 # P2\n",
    "prob += (l + m3_min - m3_max) - cv3 <= 0 # P3\n",
    "prob += -m1_min <= 0\n",
    "prob += -m1_max <= 0\n",
    "prob += -m2_min <= 0\n",
    "prob += -m2_max <= 0\n",
    "prob += -m3_min <= 0\n",
    "prob += -m3_max <= 0"
   ],
   "metadata": {
    "collapsed": false,
    "pycharm": {
     "name": "#%%\n"
    }
   }
  },
  {
   "cell_type": "markdown",
   "source": [
    "##### Resolución"
   ],
   "metadata": {
    "collapsed": false
   }
  },
  {
   "cell_type": "code",
   "execution_count": 21,
   "outputs": [
    {
     "data": {
      "text/plain": "1"
     },
     "execution_count": 21,
     "metadata": {},
     "output_type": "execute_result"
    }
   ],
   "source": [
    "prob.solve()"
   ],
   "metadata": {
    "collapsed": false,
    "pycharm": {
     "name": "#%%\n"
    }
   }
  },
  {
   "cell_type": "markdown",
   "source": [
    "##### Estado de resolución del problema"
   ],
   "metadata": {
    "collapsed": false
   }
  },
  {
   "cell_type": "code",
   "execution_count": 22,
   "outputs": [
    {
     "name": "stdout",
     "output_type": "stream",
     "text": [
      "Optimal\n"
     ]
    }
   ],
   "source": [
    "print(LpStatus[prob.status])"
   ],
   "metadata": {
    "collapsed": false,
    "pycharm": {
     "name": "#%%\n"
    }
   }
  },
  {
   "cell_type": "markdown",
   "source": [
    "##### Multiplicadores de Lagrange en el punto óptimo"
   ],
   "metadata": {
    "collapsed": false
   }
  },
  {
   "cell_type": "code",
   "execution_count": 23,
   "outputs": [
    {
     "name": "stdout",
     "output_type": "stream",
     "text": [
      "l = 75.0 [$/MW]\n",
      "m1_max = 35.0 [$/MW]\n",
      "m1_min = -0.0 [$/MW]\n",
      "m2_max = -0.0 [$/MW]\n",
      "m2_min = -0.0 [$/MW]\n",
      "m3_max = -0.0 [$/MW]\n",
      "m3_min = -0.0 [$/MW]\n"
     ]
    }
   ],
   "source": [
    "for m in prob.variables():\n",
    "    print(m.name , \"=\", m.varValue, \"[$/MW]\")"
   ],
   "metadata": {
    "collapsed": false,
    "pycharm": {
     "name": "#%%\n"
    }
   }
  },
  {
   "cell_type": "markdown",
   "source": [
    "##### Beneficio total del sistema"
   ],
   "metadata": {
    "collapsed": false
   }
  },
  {
   "cell_type": "code",
   "execution_count": 24,
   "outputs": [
    {
     "name": "stdout",
     "output_type": "stream",
     "text": [
      "Beneficio total =  25250.0 [$]\n"
     ]
    }
   ],
   "source": [
    "print(\"Beneficio total = \", value(prob.objective), \"[$]\")"
   ],
   "metadata": {
    "collapsed": false,
    "pycharm": {
     "name": "#%%\n"
    }
   }
  },
  {
   "cell_type": "markdown",
   "source": [
    "##### Multiplicadores de Lagrange"
   ],
   "metadata": {
    "collapsed": false
   }
  },
  {
   "cell_type": "code",
   "execution_count": 25,
   "outputs": [
    {
     "name": "stdout",
     "output_type": "stream",
     "text": [
      "Variable dual para la restricción l - m1_max + m1_min <= 40 -> 350.0\n",
      "Variable dual para la restricción l - m2_max + m2_min <= 75 -> 150.0\n",
      "Variable dual para la restricción l - m3_max + m3_min <= 110 -> -0.0\n",
      "Variable dual para la restricción -m1_min <= 0 -> 200.0\n",
      "Variable dual para la restricción -m1_max <= 0 -> -0.0\n",
      "Variable dual para la restricción -m2_min <= 0 -> 75.0\n",
      "Variable dual para la restricción -m2_max <= 0 -> 0.0\n",
      "Variable dual para la restricción -m3_min <= 0 -> -0.0\n",
      "Variable dual para la restricción -m3_max <= 0 -> 100.0\n"
     ]
    }
   ],
   "source": [
    "for restriccion in prob.constraints.values():\n",
    "    print(\"Variable dual para la restricción\", restriccion, \"->\", restriccion.pi)"
   ],
   "metadata": {
    "collapsed": false,
    "pycharm": {
     "name": "#%%\n"
    }
   }
  },
  {
   "cell_type": "markdown",
   "source": [
    "##### Precios sombra\n",
    "###### ¿Qué son los precios sombra de las variables duales (Multiplicadores de Lagrange) en el problema dual?"
   ],
   "metadata": {
    "collapsed": false
   }
  },
  {
   "cell_type": "code",
   "execution_count": 26,
   "outputs": [
    {
     "name": "stdout",
     "output_type": "stream",
     "text": [
      "Precio sombra de l = 0.0\n",
      "Precio sombra de m1_max = 0.0\n",
      "Precio sombra de m1_min = 0.0\n",
      "Precio sombra de m2_max = 0.0\n",
      "Precio sombra de m2_min = 0.0\n",
      "Precio sombra de m3_max = 0.0\n",
      "Precio sombra de m3_min = 0.0\n"
     ]
    }
   ],
   "source": [
    "for m in prob.variables():\n",
    "    print(\"Precio sombra de\", m, \"=\", m.dj)"
   ],
   "metadata": {
    "collapsed": false,
    "pycharm": {
     "name": "#%%\n"
    }
   }
  },
  {
   "cell_type": "markdown",
   "source": [
    "# Actividad 2"
   ],
   "metadata": {
    "collapsed": false,
    "pycharm": {
     "name": "#%% md\n"
    }
   }
  },
  {
   "cell_type": "markdown",
   "source": [
    "## Datos"
   ],
   "metadata": {
    "collapsed": false,
    "pycharm": {
     "name": "#%% md\n"
    }
   }
  },
  {
   "cell_type": "markdown",
   "source": [
    "### Generadores"
   ],
   "metadata": {
    "collapsed": false,
    "pycharm": {
     "name": "#%% md\n"
    }
   }
  },
  {
   "cell_type": "code",
   "execution_count": 44,
   "outputs": [
    {
     "name": "stdout",
     "output_type": "stream",
     "text": [
      "            Pmax  Pmin  Coef_a  Coef_b  Coef_c  Cost. comb.  Unnamed: 7   \n",
      "Gen Number                                                                \n",
      "1            500   150    2000      25    0.05            1         NaN  \\\n",
      "2            700   200    1250      15    0.04            1         NaN   \n",
      "3            200     0    1700      10    0.03            1         NaN   \n",
      "\n",
      "                                    Unnamed: 8  \n",
      "Gen Number                                      \n",
      "1           H1 = coef_a + coef_bP1 + coef_cP12  \n",
      "2                                          NaN  \n",
      "3                                          NaN  \n"
     ]
    }
   ],
   "source": [
    "Datos_gen = pd.read_excel(\"Datos_gen.xlsx\", sheet_name=\"Datos_gen\", index_col=0)\n",
    "print(Datos_gen)"
   ],
   "metadata": {
    "collapsed": false,
    "pycharm": {
     "name": "#%%\n"
    }
   }
  },
  {
   "cell_type": "markdown",
   "source": [
    "#### Potencias mínimas"
   ],
   "metadata": {
    "collapsed": false
   }
  },
  {
   "cell_type": "code",
   "execution_count": 48,
   "outputs": [
    {
     "name": "stdout",
     "output_type": "stream",
     "text": [
      "P1_min = 150\n",
      "P2_min = 200\n",
      "P3_min = 0\n"
     ]
    }
   ],
   "source": [
    "P1_min = Datos_gen.loc[1, \"Pmin\"] #[MW]\n",
    "P2_min = Datos_gen.loc[2, \"Pmin\"] #[MW]\n",
    "P3_min = Datos_gen.loc[3, \"Pmin\"] #[MW]\n",
    "print(\"P1_min = \" + str(P1_min))\n",
    "print(\"P2_min = \" + str(P2_min))\n",
    "print(\"P3_min = \" + str(P3_min))"
   ],
   "metadata": {
    "collapsed": false,
    "pycharm": {
     "name": "#%%\n"
    }
   }
  },
  {
   "cell_type": "markdown",
   "source": [
    "#### Potencias máximas"
   ],
   "metadata": {
    "collapsed": false
   }
  },
  {
   "cell_type": "code",
   "execution_count": 54,
   "outputs": [
    {
     "name": "stdout",
     "output_type": "stream",
     "text": [
      "P1_max = 500\n",
      "P2_max = 700\n",
      "P3_max = 200\n"
     ]
    }
   ],
   "source": [
    "P1_max = Datos_gen.loc[1, \"Pmax\"] #[MW]\n",
    "P2_max = Datos_gen.loc[2, \"Pmax\"] #[MW]\n",
    "P3_max = Datos_gen.loc[3, \"Pmax\"] #[MW]\n",
    "print(\"P1_max = \" + str(P1_max))\n",
    "print(\"P2_max = \" + str(P2_max))\n",
    "print(\"P3_max = \" + str(P3_max))"
   ],
   "metadata": {
    "collapsed": false,
    "pycharm": {
     "name": "#%%\n"
    }
   }
  },
  {
   "cell_type": "markdown",
   "source": [
    "### Demanda"
   ],
   "metadata": {
    "collapsed": false,
    "pycharm": {
     "name": "#%% md\n"
    }
   }
  },
  {
   "cell_type": "code",
   "execution_count": 55,
   "outputs": [
    {
     "name": "stdout",
     "output_type": "stream",
     "text": [
      "      Demanda\n",
      "Hora         \n",
      "1      836.92\n",
      "2      805.56\n",
      "3      786.94\n",
      "4      781.06\n",
      "5      783.02\n",
      "6      794.78\n",
      "7      847.70\n",
      "8      903.56\n",
      "9      951.58\n",
      "10     995.68\n",
      "11    1009.40\n",
      "12    1015.28\n",
      "13    1015.28\n",
      "14    1006.46\n",
      "15    1001.56\n",
      "16     993.72\n",
      "17     980.00\n",
      "18     940.80\n",
      "19     957.46\n",
      "20     992.74\n",
      "21     984.90\n",
      "22     966.28\n",
      "23     965.30\n",
      "24     930.02\n"
     ]
    }
   ],
   "source": [
    "Perfil_horario = pd.read_excel(\"Datos_gen.xlsx\", sheet_name=\"Perfil_horario\", index_col=0)\n",
    "print(Perfil_horario)"
   ],
   "metadata": {
    "collapsed": false,
    "pycharm": {
     "name": "#%%\n"
    }
   }
  },
  {
   "cell_type": "markdown",
   "source": [
    "### Líneas de transmisión"
   ],
   "metadata": {
    "collapsed": false,
    "pycharm": {
     "name": "#%% md\n"
    }
   }
  },
  {
   "cell_type": "code",
   "execution_count": 56,
   "outputs": [
    {
     "name": "stdout",
     "output_type": "stream",
     "text": [
      "            B1-B2  B2-B3  B1-B3 Unnamed: 4 Unnamed: 5 Unnamed: 6\n",
      "Linea                                                           \n",
      "Capacidad   220.0  280.0    100         MW        NaN        NaN\n",
      "Reactancia    0.5    0.6      1         pu    100 MVA     220 kV\n"
     ]
    }
   ],
   "source": [
    "Transmision = pd.read_excel(\"Datos_gen.xlsx\", sheet_name=\"Transmision\", index_col=0)\n",
    "print(Transmision)"
   ],
   "metadata": {
    "collapsed": false,
    "pycharm": {
     "name": "#%%\n"
    }
   }
  },
  {
   "cell_type": "markdown",
   "source": [
    "### Flujo mínimo"
   ],
   "metadata": {
    "collapsed": false,
    "pycharm": {
     "name": "#%% md\n"
    }
   }
  },
  {
   "cell_type": "code",
   "execution_count": 57,
   "outputs": [
    {
     "name": "stdout",
     "output_type": "stream",
     "text": [
      "P12_min = -220.0\n",
      "P23_min = -280.0\n",
      "P13_min = -100\n"
     ]
    }
   ],
   "source": [
    "P12_min = - Transmision.loc[\"Capacidad\", \"B1-B2\"]\n",
    "P23_min = - Transmision.loc[\"Capacidad\", \"B2-B3\"]\n",
    "P13_min = - Transmision.loc[\"Capacidad\", \"B1-B3\"]\n",
    "print(\"P12_min = \" + str(P12_min))\n",
    "print(\"P23_min = \" + str(P23_min))\n",
    "print(\"P13_min = \" + str(P13_min))"
   ],
   "metadata": {
    "collapsed": false,
    "pycharm": {
     "name": "#%%\n"
    }
   }
  },
  {
   "cell_type": "markdown",
   "source": [
    "### Flujo máximo"
   ],
   "metadata": {
    "collapsed": false,
    "pycharm": {
     "name": "#%% md\n"
    }
   }
  },
  {
   "cell_type": "code",
   "execution_count": 58,
   "outputs": [
    {
     "name": "stdout",
     "output_type": "stream",
     "text": [
      "P12_max = 220.0\n",
      "P23_max = 280.0\n",
      "P13_max = 100\n"
     ]
    }
   ],
   "source": [
    "P12_max = - P12_min\n",
    "P23_max = - P23_min\n",
    "P13_max = - P13_min\n",
    "print(\"P12_max = \" + str(P12_max))\n",
    "print(\"P23_max = \" + str(P23_max))\n",
    "print(\"P13_max = \" + str(P13_max))"
   ],
   "metadata": {
    "collapsed": false,
    "pycharm": {
     "name": "#%%\n"
    }
   }
  },
  {
   "cell_type": "markdown",
   "source": [
    "### Reactancias"
   ],
   "metadata": {
    "collapsed": false,
    "pycharm": {
     "name": "#%% md\n"
    }
   }
  },
  {
   "cell_type": "code",
   "execution_count": 61,
   "outputs": [
    {
     "name": "stdout",
     "output_type": "stream",
     "text": [
      "X12 = 242.0\n",
      "X23 = 290.4\n",
      "X13 = 484.0\n"
     ]
    }
   ],
   "source": [
    "Zb = 220 ** 2 / 100\n",
    "X12 = 0.5 * Zb\n",
    "X23 = 0.6 * Zb\n",
    "X13 = 1 * Zb\n",
    "print(\"X12 = \" + str(X12))\n",
    "print(\"X23 = \" + str(X23))\n",
    "print(\"X13 = \" + str(X13))"
   ],
   "metadata": {
    "collapsed": false,
    "pycharm": {
     "name": "#%%\n"
    }
   }
  },
  {
   "cell_type": "code",
   "execution_count": null,
   "outputs": [],
   "source": [],
   "metadata": {
    "collapsed": false,
    "pycharm": {
     "name": "#%%\n"
    }
   }
  }
 ],
 "metadata": {
  "kernelspec": {
   "display_name": "Python 3 (ipykernel)",
   "language": "python",
   "name": "python3"
  },
  "language_info": {
   "codemirror_mode": {
    "name": "ipython",
    "version": 3
   },
   "file_extension": ".py",
   "mimetype": "text/x-python",
   "name": "python",
   "nbconvert_exporter": "python",
   "pygments_lexer": "ipython3",
   "version": "3.9.16"
  }
 },
 "nbformat": 4,
 "nbformat_minor": 1
}
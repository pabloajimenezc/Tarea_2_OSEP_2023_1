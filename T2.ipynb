{
 "cells": [
  {
   "cell_type": "code",
   "execution_count": 1,
   "outputs": [],
   "source": [
    "from pulp import *\n",
    "import pandas as pd"
   ],
   "metadata": {
    "collapsed": false,
    "pycharm": {
     "name": "#%%\n"
    }
   }
  },
  {
   "cell_type": "markdown",
   "source": [
    "# Actividad 1"
   ],
   "metadata": {
    "collapsed": false,
    "pycharm": {
     "name": "#%% md\n"
    }
   }
  },
  {
   "cell_type": "markdown",
   "source": [
    "## Datos"
   ],
   "metadata": {
    "collapsed": false
   }
  },
  {
   "cell_type": "markdown",
   "source": [
    "##### Potencias mínimas"
   ],
   "metadata": {
    "collapsed": false
   }
  },
  {
   "cell_type": "code",
   "execution_count": 2,
   "outputs": [],
   "source": [
    "Pc_min = 150\n",
    "Pg_min = 75\n",
    "Po_min = 0"
   ],
   "metadata": {
    "collapsed": false,
    "pycharm": {
     "name": "#%%\n"
    }
   }
  },
  {
   "cell_type": "markdown",
   "source": [
    "##### Potencias máximas"
   ],
   "metadata": {
    "collapsed": false
   }
  },
  {
   "cell_type": "code",
   "execution_count": 3,
   "outputs": [],
   "source": [
    "Pc_max = 350\n",
    "Pg_max = 150\n",
    "Po_max = 100"
   ],
   "metadata": {
    "collapsed": false,
    "pycharm": {
     "name": "#%%\n"
    }
   }
  },
  {
   "cell_type": "markdown",
   "source": [
    "##### Costos fijos"
   ],
   "metadata": {
    "collapsed": false
   }
  },
  {
   "cell_type": "code",
   "execution_count": 4,
   "outputs": [],
   "source": [
    "cfc = 1\n",
    "cfg = 0.5\n",
    "cfo = 0.1"
   ],
   "metadata": {
    "collapsed": false,
    "pycharm": {
     "name": "#%%\n"
    }
   }
  },
  {
   "cell_type": "markdown",
   "source": [
    "##### Costos variables"
   ],
   "metadata": {
    "collapsed": false
   }
  },
  {
   "cell_type": "code",
   "execution_count": 5,
   "outputs": [],
   "source": [
    "cvc = 40\n",
    "cvg = 75\n",
    "cvo = 110"
   ],
   "metadata": {
    "collapsed": false,
    "pycharm": {
     "name": "#%%\n"
    }
   }
  },
  {
   "cell_type": "markdown",
   "source": [
    "##### Demanda"
   ],
   "metadata": {
    "collapsed": false
   }
  },
  {
   "cell_type": "code",
   "execution_count": 6,
   "outputs": [],
   "source": [
    "D = 500"
   ],
   "metadata": {
    "collapsed": false,
    "pycharm": {
     "name": "#%%\n"
    }
   }
  },
  {
   "cell_type": "markdown",
   "source": [
    "## Problema de optmización primal:\n",
    "### Minimización de costos"
   ],
   "metadata": {
    "collapsed": false
   }
  },
  {
   "cell_type": "markdown",
   "source": [
    "##### Inicialización del problema"
   ],
   "metadata": {
    "collapsed": false
   }
  },
  {
   "cell_type": "code",
   "execution_count": 7,
   "outputs": [],
   "source": [
    "prob = LpProblem(\"Primal\", LpMinimize)"
   ],
   "metadata": {
    "collapsed": false,
    "pycharm": {
     "name": "#%%\n"
    }
   }
  },
  {
   "cell_type": "markdown",
   "source": [
    "##### Definición de variables"
   ],
   "metadata": {
    "collapsed": false
   }
  },
  {
   "cell_type": "code",
   "execution_count": 8,
   "outputs": [],
   "source": [
    "Pc = LpVariable(\"Pc\")\n",
    "Pg = LpVariable(\"Pg\")\n",
    "Po = LpVariable(\"Po\")"
   ],
   "metadata": {
    "collapsed": false,
    "pycharm": {
     "name": "#%%\n"
    }
   }
  },
  {
   "cell_type": "markdown",
   "source": [
    "##### Función objetivo"
   ],
   "metadata": {
    "collapsed": false
   }
  },
  {
   "cell_type": "code",
   "execution_count": 9,
   "outputs": [],
   "source": [
    "prob += (cfc + cvc * Pc) + (cfg + cvg * Pg) + (cfo + cvo * Po)"
   ],
   "metadata": {
    "collapsed": false,
    "pycharm": {
     "name": "#%%\n"
    }
   }
  },
  {
   "cell_type": "markdown",
   "source": [
    "##### Restricciones"
   ],
   "metadata": {
    "collapsed": false
   }
  },
  {
   "cell_type": "code",
   "execution_count": 10,
   "outputs": [],
   "source": [
    "prob += D - (Pc + Pg + Po) == 0 # lambda\n",
    "prob += Pc_min - Pc <= 0 # mc_min\n",
    "prob += Pc - Pc_max <= 0 # mc_max\n",
    "prob += Pg_min - Pg <= 0 # mg_min\n",
    "prob += Pg - Pg_max <= 0 # mg_max\n",
    "prob += Po_min - Po <= 0 # mo_min\n",
    "prob += Po - Po_max <= 0 # mo_max"
   ],
   "metadata": {
    "collapsed": false,
    "pycharm": {
     "name": "#%%\n"
    }
   }
  },
  {
   "cell_type": "markdown",
   "source": [
    "##### Resolución"
   ],
   "metadata": {
    "collapsed": false
   }
  },
  {
   "cell_type": "code",
   "execution_count": 11,
   "outputs": [
    {
     "data": {
      "text/plain": "1"
     },
     "execution_count": 11,
     "metadata": {},
     "output_type": "execute_result"
    }
   ],
   "source": [
    "prob.solve()"
   ],
   "metadata": {
    "collapsed": false,
    "pycharm": {
     "name": "#%%\n"
    }
   }
  },
  {
   "cell_type": "markdown",
   "source": [
    "##### Estado de resolución del problema"
   ],
   "metadata": {
    "collapsed": false
   }
  },
  {
   "cell_type": "code",
   "execution_count": 12,
   "outputs": [
    {
     "name": "stdout",
     "output_type": "stream",
     "text": [
      "Optimal\n"
     ]
    }
   ],
   "source": [
    "print(LpStatus[prob.status])"
   ],
   "metadata": {
    "collapsed": false,
    "pycharm": {
     "name": "#%%\n"
    }
   }
  },
  {
   "cell_type": "markdown",
   "source": [
    "##### Potencias en el punto óptimo"
   ],
   "metadata": {
    "collapsed": false
   }
  },
  {
   "cell_type": "code",
   "execution_count": 13,
   "outputs": [
    {
     "name": "stdout",
     "output_type": "stream",
     "text": [
      "Pc = 350.0 [MW]\n",
      "Pg = 150.0 [MW]\n",
      "Po = 0.0 [MW]\n"
     ]
    }
   ],
   "source": [
    "for potencia in prob.variables():\n",
    "    print(potencia.name , \"=\", potencia.varValue, \"[MW]\")"
   ],
   "metadata": {
    "collapsed": false,
    "pycharm": {
     "name": "#%%\n"
    }
   }
  },
  {
   "cell_type": "markdown",
   "source": [
    "##### Costo total del sistema"
   ],
   "metadata": {
    "collapsed": false
   }
  },
  {
   "cell_type": "code",
   "execution_count": 14,
   "outputs": [
    {
     "name": "stdout",
     "output_type": "stream",
     "text": [
      "Costo total =  25251.6 [USD]\n"
     ]
    }
   ],
   "source": [
    "print(\"Costo total = \", value(prob.objective), \"[USD]\")"
   ],
   "metadata": {
    "collapsed": false,
    "pycharm": {
     "name": "#%%\n"
    }
   }
  },
  {
   "cell_type": "markdown",
   "source": [
    "##### Multiplicadores de Lagrange"
   ],
   "metadata": {
    "collapsed": false
   }
  },
  {
   "cell_type": "code",
   "execution_count": 15,
   "outputs": [
    {
     "name": "stdout",
     "output_type": "stream",
     "text": [
      "Variable dual para la restricción -Pc - Pg - Po = -500 -> -110.0\n",
      "Variable dual para la restricción -Pc <= -150 -> 0.0\n",
      "Variable dual para la restricción Pc <= 350 -> -70.0\n",
      "Variable dual para la restricción -Pg <= -75 -> 0.0\n",
      "Variable dual para la restricción Pg <= 150 -> -35.0\n",
      "Variable dual para la restricción -Po <= 0 -> 0.0\n",
      "Variable dual para la restricción Po <= 100 -> 0.0\n"
     ]
    }
   ],
   "source": [
    "for restriccion in prob.constraints.values():\n",
    "    print(\"Variable dual para la restricción\", restriccion, \"->\", restriccion.pi)"
   ],
   "metadata": {
    "collapsed": false,
    "pycharm": {
     "name": "#%%\n"
    }
   }
  },
  {
   "cell_type": "markdown",
   "source": [
    "##### Precios sombra"
   ],
   "metadata": {
    "collapsed": false
   }
  },
  {
   "cell_type": "code",
   "execution_count": 16,
   "outputs": [
    {
     "name": "stdout",
     "output_type": "stream",
     "text": [
      "Precio sombra de Pc = 0.0\n",
      "Precio sombra de Pg = 0.0\n",
      "Precio sombra de Po = 0.0\n"
     ]
    }
   ],
   "source": [
    "for P in prob.variables():\n",
    "    print(\"Precio sombra de\", P, \"=\", P.dj)"
   ],
   "metadata": {
    "collapsed": false,
    "pycharm": {
     "name": "#%%\n"
    }
   }
  },
  {
   "cell_type": "markdown",
   "source": [
    "## Problema de optmización dual:\n",
    "### Maximización de los beneficios"
   ],
   "metadata": {
    "collapsed": false
   }
  },
  {
   "cell_type": "markdown",
   "source": [
    "##### Inicialización del problema"
   ],
   "metadata": {
    "collapsed": false
   }
  },
  {
   "cell_type": "code",
   "execution_count": 17,
   "outputs": [],
   "source": [
    "prob = LpProblem(\"Dual\", LpMaximize)"
   ],
   "metadata": {
    "collapsed": false,
    "pycharm": {
     "name": "#%%\n"
    }
   }
  },
  {
   "cell_type": "markdown",
   "source": [
    "##### Definición de variables"
   ],
   "metadata": {
    "collapsed": false
   }
  },
  {
   "cell_type": "code",
   "execution_count": 18,
   "outputs": [],
   "source": [
    "l = LpVariable(\"l\")\n",
    "mc_min = LpVariable(\"mc_min\")\n",
    "mc_max = LpVariable(\"mc_max\")\n",
    "mg_min = LpVariable(\"mg_min\")\n",
    "mg_max = LpVariable(\"mg_max\")\n",
    "mo_min = LpVariable(\"mo_min\")\n",
    "mo_max = LpVariable(\"mo_max\")"
   ],
   "metadata": {
    "collapsed": false,
    "pycharm": {
     "name": "#%%\n"
    }
   }
  },
  {
   "cell_type": "markdown",
   "source": [
    "##### Función objetivo"
   ],
   "metadata": {
    "collapsed": false
   }
  },
  {
   "cell_type": "code",
   "execution_count": 19,
   "outputs": [],
   "source": [
    "prob += D * l + (Pc_min * mc_min + Pg_min * mg_min + Po_min * mo_min) - (Pc_max * mc_max + Pg_max * mg_max + Po_max * mo_max)"
   ],
   "metadata": {
    "collapsed": false,
    "pycharm": {
     "name": "#%%\n"
    }
   }
  },
  {
   "cell_type": "markdown",
   "source": [
    "##### Restricciones"
   ],
   "metadata": {
    "collapsed": false
   }
  },
  {
   "cell_type": "code",
   "execution_count": 20,
   "outputs": [],
   "source": [
    "prob += (l + mc_min - mc_max) - cvc <= 0 # Pc\n",
    "prob += (l + mg_min - mg_max) - cvg <= 0 # Pg\n",
    "prob += (l + mo_min - mo_max) - cvo <= 0 # Po\n",
    "prob += -mc_min <= 0\n",
    "prob += -mc_max <= 0\n",
    "prob += -mg_min <= 0\n",
    "prob += -mg_max <= 0\n",
    "prob += -mo_min <= 0\n",
    "prob += -mo_max <= 0"
   ],
   "metadata": {
    "collapsed": false,
    "pycharm": {
     "name": "#%%\n"
    }
   }
  },
  {
   "cell_type": "markdown",
   "source": [
    "##### Resolución"
   ],
   "metadata": {
    "collapsed": false
   }
  },
  {
   "cell_type": "code",
   "execution_count": 21,
   "outputs": [
    {
     "data": {
      "text/plain": "1"
     },
     "execution_count": 21,
     "metadata": {},
     "output_type": "execute_result"
    }
   ],
   "source": [
    "prob.solve()"
   ],
   "metadata": {
    "collapsed": false,
    "pycharm": {
     "name": "#%%\n"
    }
   }
  },
  {
   "cell_type": "markdown",
   "source": [
    "##### Estado de resolución del problema"
   ],
   "metadata": {
    "collapsed": false
   }
  },
  {
   "cell_type": "code",
   "execution_count": 22,
   "outputs": [
    {
     "name": "stdout",
     "output_type": "stream",
     "text": [
      "Optimal\n"
     ]
    }
   ],
   "source": [
    "print(LpStatus[prob.status])"
   ],
   "metadata": {
    "collapsed": false,
    "pycharm": {
     "name": "#%%\n"
    }
   }
  },
  {
   "cell_type": "markdown",
   "source": [
    "##### Multiplicadores de Lagrange en el punto óptimo"
   ],
   "metadata": {
    "collapsed": false
   }
  },
  {
   "cell_type": "code",
   "execution_count": 23,
   "outputs": [
    {
     "name": "stdout",
     "output_type": "stream",
     "text": [
      "l = 75.0 [USD/MW]\n",
      "mc_max = 35.0 [USD/MW]\n",
      "mc_min = -0.0 [USD/MW]\n",
      "mg_max = -0.0 [USD/MW]\n",
      "mg_min = -0.0 [USD/MW]\n",
      "mo_max = -0.0 [USD/MW]\n",
      "mo_min = -0.0 [USD/MW]\n"
     ]
    }
   ],
   "source": [
    "for m in prob.variables():\n",
    "    print(m.name , \"=\", m.varValue, \"[USD/MW]\")"
   ],
   "metadata": {
    "collapsed": false,
    "pycharm": {
     "name": "#%%\n"
    }
   }
  },
  {
   "cell_type": "markdown",
   "source": [
    "##### Beneficio total del sistema"
   ],
   "metadata": {
    "collapsed": false
   }
  },
  {
   "cell_type": "code",
   "execution_count": 24,
   "outputs": [
    {
     "name": "stdout",
     "output_type": "stream",
     "text": [
      "Beneficio total =  25250.0 [USD]\n"
     ]
    }
   ],
   "source": [
    "print(\"Beneficio total = \", value(prob.objective), \"[USD]\")"
   ],
   "metadata": {
    "collapsed": false,
    "pycharm": {
     "name": "#%%\n"
    }
   }
  },
  {
   "cell_type": "markdown",
   "source": [
    "##### Multiplicadores de Lagrange"
   ],
   "metadata": {
    "collapsed": false
   }
  },
  {
   "cell_type": "code",
   "execution_count": 25,
   "outputs": [
    {
     "name": "stdout",
     "output_type": "stream",
     "text": [
      "Variable dual para la restricción l - mc_max + mc_min <= 40 -> 350.0\n",
      "Variable dual para la restricción l - mg_max + mg_min <= 75 -> 150.0\n",
      "Variable dual para la restricción l - mo_max + mo_min <= 110 -> -0.0\n",
      "Variable dual para la restricción -mc_min <= 0 -> 200.0\n",
      "Variable dual para la restricción -mc_max <= 0 -> -0.0\n",
      "Variable dual para la restricción -mg_min <= 0 -> 75.0\n",
      "Variable dual para la restricción -mg_max <= 0 -> 0.0\n",
      "Variable dual para la restricción -mo_min <= 0 -> -0.0\n",
      "Variable dual para la restricción -mo_max <= 0 -> 100.0\n"
     ]
    }
   ],
   "source": [
    "for restriccion in prob.constraints.values():\n",
    "    print(\"Variable dual para la restricción\", restriccion, \"->\", restriccion.pi)"
   ],
   "metadata": {
    "collapsed": false,
    "pycharm": {
     "name": "#%%\n"
    }
   }
  },
  {
   "cell_type": "markdown",
   "source": [
    "##### Precios sombra\n",
    "###### ¿Qué son los precios sombra de las variables duales (Multiplicadores de Lagrange) en el problema dual?"
   ],
   "metadata": {
    "collapsed": false
   }
  },
  {
   "cell_type": "code",
   "execution_count": 26,
   "outputs": [
    {
     "name": "stdout",
     "output_type": "stream",
     "text": [
      "Precio sombra de l = 0.0\n",
      "Precio sombra de mc_max = 0.0\n",
      "Precio sombra de mc_min = 0.0\n",
      "Precio sombra de mg_max = 0.0\n",
      "Precio sombra de mg_min = 0.0\n",
      "Precio sombra de mo_max = 0.0\n",
      "Precio sombra de mo_min = 0.0\n"
     ]
    }
   ],
   "source": [
    "for m in prob.variables():\n",
    "    print(\"Precio sombra de\", m, \"=\", m.dj)"
   ],
   "metadata": {
    "collapsed": false,
    "pycharm": {
     "name": "#%%\n"
    }
   }
  },
  {
   "cell_type": "markdown",
   "source": [
    "# Actividad 2"
   ],
   "metadata": {
    "collapsed": false,
    "pycharm": {
     "name": "#%% md\n"
    }
   }
  },
  {
   "cell_type": "code",
   "execution_count": 34,
   "outputs": [],
   "source": [
    "pd.set_option('display.max_columns', None)\n",
    "pd.set_option('display.max_rows', None)\n",
    "df = pd.read_excel(\"Datos_gen.xlsx\", sheet_name=\"Perfil_horario\")\n",
    "print(df.head())"
   ],
   "metadata": {
    "collapsed": false,
    "pycharm": {
     "name": "#%%\n"
    }
   }
  },
  {
   "cell_type": "code",
   "execution_count": null,
   "outputs": [],
   "source": [],
   "metadata": {
    "collapsed": false,
    "pycharm": {
     "name": "#%%\n"
    }
   }
  }
 ],
 "metadata": {
  "kernelspec": {
   "display_name": "Python 3 (ipykernel)",
   "language": "python",
   "name": "python3"
  },
  "language_info": {
   "codemirror_mode": {
    "name": "ipython",
    "version": 3
   },
   "file_extension": ".py",
   "mimetype": "text/x-python",
   "name": "python",
   "nbconvert_exporter": "python",
   "pygments_lexer": "ipython3",
   "version": "3.9.16"
  }
 },
 "nbformat": 4,
 "nbformat_minor": 1
}
{
 "cells": [
  {
   "cell_type": "code",
   "execution_count": 1,
   "metadata": {},
   "outputs": [],
   "source": [
    "from pulp import *"
   ]
  },
  {
   "cell_type": "code",
   "execution_count": 23,
   "metadata": {},
   "outputs": [],
   "source": [
    "# Potencias mínimas\n",
    "Pc_min = 150\n",
    "Pg_min = 75\n",
    "Po_min = 0\n",
    "# Potencias máximas\n",
    "Pc_max = 350\n",
    "Pg_max = 150\n",
    "Po_max = 100\n",
    "# Costos fijos\n",
    "cfc = 1\n",
    "cfg = 0.5\n",
    "cfo = 0.1\n",
    "# Costos variables\n",
    "cvc = 40\n",
    "cvg = 75\n",
    "cvo = 110\n",
    "# Demanda\n",
    "D = 500"
   ]
  },
  {
   "cell_type": "code",
   "execution_count": 26,
   "metadata": {},
   "outputs": [
    {
     "name": "stdout",
     "output_type": "stream",
     "text": [
      "Optimal\n",
      "Pc = 350.0\n",
      "Pg = 150.0\n",
      "Po = 0.0\n",
      "Costo total =  25251.6\n",
      "Variable dual para la restricción Pc + Pg + Po = 500 -> 40.0\n",
      "Precio sombra de Pc = 0.0\n",
      "Precio sombra de Pg = 35.0\n",
      "Precio sombra de Po = 70.0\n"
     ]
    }
   ],
   "source": [
    "# Problema de optmización primal, minimización de costos\n",
    "prob = LpProblem(\"Primal\", LpMinimize)\n",
    "Pc = LpVariable(\"Pc\", lowBound=Pc_min, upBound=Pc_max)\n",
    "Pg = LpVariable(\"Pg\", lowBound=Pg_max, upBound=Pg_max)\n",
    "Po = LpVariable(\"Po\", lowBound=Po_min, upBound=Po_max)\n",
    "# prob += (cfc + cvc * Pc) + (cfg + cvg * Pg) + (cvo + cfo * Po)\n",
    "prob += (cfc + cvc * Pc) + (cfg + cvg * Pg) + (cfo + cvo * Po)\n",
    "prob += Pc + Pg + Po == D\n",
    "prob.solve()\n",
    "# Estado de resolución del problema\n",
    "print(LpStatus[prob.status])\n",
    "# Valor de las variables en el punto óptimo\n",
    "for potencia in prob.variables():\n",
    "    print(potencia.name , \"=\", potencia.varValue)\n",
    "# Valor de la función objetivo\n",
    "print(\"Costo total = \", value(prob.objective))\n",
    "# Valor de las variables duales (multiplicadores de Lagrange)\n",
    "for restriccion in prob.constraints.values():\n",
    "    print(\"Variable dual para la restricción\", restriccion, \"->\", restriccion.pi)\n",
    "# Valor de los precios sombra\n",
    "for precio_sombra in prob.variables():\n",
    "    print(\"Precio sombra de\", precio_sombra, \"=\", precio_sombra.dj)"
   ]
  },
  {
   "cell_type": "code",
   "execution_count": 25,
   "metadata": {},
   "outputs": [
    {
     "name": "stdout",
     "output_type": "stream",
     "text": [
      "Optimal\n",
      "l = 75.0\n",
      "mc_max = 35.0\n",
      "mc_min = 0.0\n",
      "mg_max = 0.0\n",
      "mg_min = 0.0\n",
      "mo_max = 0.0\n",
      "mo_min = 0.0\n",
      "Beneficio total =  25250.0\n",
      "Variable dual para la restricción l - mc_max + mc_min <= 40 -> 350.0\n",
      "Variable dual para la restricción l - mg_max + mg_min <= 75 -> 150.0\n",
      "Variable dual para la restricción l - mo_max + mo_min <= 110 -> -0.0\n",
      "Precio sombra de l = 0.0\n",
      "Precio sombra de mc_max = 0.0\n",
      "Precio sombra de mc_min = -200.0\n",
      "Precio sombra de mg_max = 0.0\n",
      "Precio sombra de mg_min = -75.0\n",
      "Precio sombra de mo_max = -100.0\n",
      "Precio sombra de mo_min = 0.0\n"
     ]
    }
   ],
   "source": [
    "prob = LpProblem(\"Dual\", LpMaximize)\n",
    "l = LpVariable(\"l\")\n",
    "mc_min = LpVariable(\"mc_min\", lowBound=0)\n",
    "mc_max = LpVariable(\"mc_max\", lowBound=0)\n",
    "mg_min = LpVariable(\"mg_min\", lowBound=0)\n",
    "mg_max = LpVariable(\"mg_max\", lowBound=0)\n",
    "mo_min = LpVariable(\"mo_min\", lowBound=0)\n",
    "mo_max = LpVariable(\"mo_max\", lowBound=0)\n",
    "D = 500\n",
    "prob += D * l + (Pc_min * mc_min + Pg_min * mg_min + Po_min * mo_min) - (Pc_max * mc_max + Pg_max * mg_max + Po_max * mo_max)\n",
    "prob += l + mc_min - mc_max <= cvc\n",
    "prob += l + mg_min - mg_max <= cvg\n",
    "prob += l + mo_min - mo_max <= cvo\n",
    "prob.solve()\n",
    "# Estado de resolución del problema\n",
    "print(LpStatus[prob.status])\n",
    "# Valor de las variables en el punto óptimo\n",
    "for multiplicador_lagrange in prob.variables():\n",
    "    print(multiplicador_lagrange.name , \"=\", multiplicador_lagrange.varValue)\n",
    "# Valor de la función objetivo\n",
    "print(\"Beneficio total = \", value(prob.objective))\n",
    "# Valor de las variables duales\n",
    "for rest in prob.constraints.values():\n",
    "    print(\"Variable dual para la restricción\", rest, \"->\", rest.pi)\n",
    "# Valor de los precios sombra\n",
    "for P in prob.variables():\n",
    "    print(\"Precio sombra de\", P, \"=\", P.dj)"
   ]
  }
 ],
 "metadata": {
  "kernelspec": {
   "display_name": "Python 3 (ipykernel)",
   "language": "python",
   "name": "python3"
  },
  "language_info": {
   "codemirror_mode": {
    "name": "ipython",
    "version": 3
   },
   "file_extension": ".py",
   "mimetype": "text/x-python",
   "name": "python",
   "nbconvert_exporter": "python",
   "pygments_lexer": "ipython3",
   "version": "3.9.16"
  }
 },
 "nbformat": 4,
 "nbformat_minor": 1
}
